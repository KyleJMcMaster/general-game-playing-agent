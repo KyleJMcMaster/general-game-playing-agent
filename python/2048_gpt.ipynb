{
 "cells": [
  {
   "cell_type": "markdown",
   "id": "5819fc30",
   "metadata": {},
   "source": [
    "### GPT for Learning how to play 2048\n",
    "\n",
    "Inspired by [GPT from scratch](https://www.youtube.com/watch?v=kCc8FmEb1nY)"
   ]
  },
  {
   "cell_type": "markdown",
   "id": "cc1c2d08",
   "metadata": {},
   "source": [
    "#### Explore the data"
   ]
  },
  {
   "cell_type": "code",
   "execution_count": 5,
   "id": "ee4548fc",
   "metadata": {},
   "outputs": [
    {
     "name": "stdout",
     "output_type": "stream",
     "text": [
      "00000201000000000000000000000000,00000000000000000000000000010201,00010201000000000000000000000001,00010202010000000000000000000000,01030000010000010000000000000000,02030001000000000000000000010000,02030001000100000000000001000000,02030001010100000000000000010000,02030001010200000000000000020000,02030001010300000000000001000000,02040001020000000000010000000000,03040101000000000000000000000100,03040201000000000000000000010000,03040201010100000000000000000000,03040201020000000002000000000000,03040201020200010000000000000000,03040202020200010000000000000000,03040300030100000001000000000000,04040300000200000000000000020000,00000000000000000004010004030300,00000000000000000000040101000404,00000000000000010000040100000105,00000000000000000001040200000105,00000000000000000001040200010105,00000000010000000001040200000205,00000100000000000000040201010205,00010001000000000000040200020205,00000002010000000000040200000305,00000100000000000000040301000305,00000000000001000100040301000305,0000010000\n",
      "4315375\n"
     ]
    }
   ],
   "source": [
    "with open('games.txt', 'r') as f:\n",
    "    text = f.read()\n",
    "\n",
    "print(text[:1000])\n",
    "print(len(text))"
   ]
  },
  {
   "cell_type": "markdown",
   "id": "9f035a56",
   "metadata": {},
   "source": [
    "#### Tokenize\n",
    "\n",
    "Each tile is represented by 2 digit, 0-led int. Will convert tile into regular int. \n",
    "\n",
    "Each state is separated by comma, each game by ';\\n'. Will convert these into int as well"
   ]
  },
  {
   "cell_type": "code",
   "execution_count": 43,
   "id": "c614918a",
   "metadata": {},
   "outputs": [
    {
     "name": "stdout",
     "output_type": "stream",
     "text": [
      "[2, 0, 0, 0, 2, 3, 3, 1, 6, 7, 6, 5, 7, 8, 10, 11, 20, 1, 0, 0, 0, 3, 3, 3, 1, 6, 7, 6, 5, 7, 8, 10, 11, 20, 21, 1, 0, 0, 0, 3, 3, 3, 1, 6, 7, 6, 5, 7, 8, 10, 11, 20]\n",
      "02000000020303010607060507081011,01000000030303010607060507081011,;\n",
      "01000000030303010607060507081011,\n"
     ]
    }
   ],
   "source": [
    "mapping = {',':20, ';\\n':21}\n",
    "inv_mapping = {v: k for k, v in mapping.items()}\n",
    "\n",
    "def encode(s:str)-> list[str]:\n",
    "    out = []\n",
    "    num_splits = len(s.split(f';\\n'))\n",
    "    for i, game in enumerate(s.split(f';\\n')): \n",
    "        for state in game.split(',')[:-1]:\n",
    "            enc_state = [int(''.join(state[i:i+2])) for i in range(0, len(state), 2)]\n",
    "            enc_state.append(mapping[','])\n",
    "            out += enc_state\n",
    "        out.append(mapping[';\\n']) if i < num_splits-1 else None\n",
    "    \n",
    "    return out\n",
    "\n",
    "def decode(l:list[int]) -> str:\n",
    "    s = ''\n",
    "    for char in l:\n",
    "        if char < 10:\n",
    "            s += '0'+ str(char)\n",
    "        elif char < 20: # hard coded, should fix\n",
    "            s += str(char)\n",
    "        else:\n",
    "            s += inv_mapping[char]\n",
    "\n",
    "    return s        \n",
    "\n",
    "\n",
    "print(encode('02000000020303010607060507081011,01000000030303010607060507081011,;\\n01000000030303010607060507081011,'))\n",
    "print(decode(encode('02000000020303010607060507081011,01000000030303010607060507081011,;\\n01000000030303010607060507081011,')))\n"
   ]
  },
  {
   "cell_type": "markdown",
   "id": "41638313",
   "metadata": {},
   "source": [
    "#### Load data\n",
    "\n",
    "Get train test split\n",
    "\n",
    "Set up batches"
   ]
  },
  {
   "cell_type": "code",
   "execution_count": 49,
   "id": "f67652d6",
   "metadata": {},
   "outputs": [
    {
     "name": "stdout",
     "output_type": "stream",
     "text": [
      "tensor([[ 1,  2,  9, 11, 20,  1,  0,  0,  2,  0,  1,  4,  3,  0,  8,  6,  6,  1,\n",
      "          2,  9, 11, 20,  0,  0,  1,  2,  0,  1,  4,  3,  0,  8,  6,  6],\n",
      "        [20,  0,  0,  2,  2,  1,  3,  4,  3,  6,  1,  2,  1,  4,  7,  8, 10, 20,\n",
      "          0,  0,  1,  3,  1,  3,  4,  3,  6,  1,  2,  1,  4,  7,  8, 10],\n",
      "        [ 7,  4,  0,  0,  6,  1, 20,  0,  1,  2,  2,  0,  4,  4,  5,  1,  2,  7,\n",
      "          4,  1,  0,  6,  1, 20,  1,  3,  0,  0,  5,  5,  0,  0,  1,  2],\n",
      "        [ 0,  0,  0,  1,  3,  2,  0,  0,  7,  7,  8,  9, 20,  0,  0,  1,  0,  0,\n",
      "          0,  0,  1,  0,  0,  3,  2,  0,  8,  8,  9, 20,  0,  0,  0,  1]],\n",
      "       dtype=torch.int16)\n",
      "tensor([[ 2,  9, 11, 20,  1,  0,  0,  2,  0,  1,  4,  3,  0,  8,  6,  6,  1,  2,\n",
      "          9, 11, 20,  0,  0,  1,  2,  0,  1,  4,  3,  0,  8,  6,  6,  2],\n",
      "        [ 0,  0,  2,  2,  1,  3,  4,  3,  6,  1,  2,  1,  4,  7,  8, 10, 20,  0,\n",
      "          0,  1,  3,  1,  3,  4,  3,  6,  1,  2,  1,  4,  7,  8, 10, 20],\n",
      "        [ 4,  0,  0,  6,  1, 20,  0,  1,  2,  2,  0,  4,  4,  5,  1,  2,  7,  4,\n",
      "          1,  0,  6,  1, 20,  1,  3,  0,  0,  5,  5,  0,  0,  1,  2,  7],\n",
      "        [ 0,  0,  1,  3,  2,  0,  0,  7,  7,  8,  9, 20,  0,  0,  1,  0,  0,  0,\n",
      "          0,  1,  0,  0,  3,  2,  0,  8,  8,  9, 20,  0,  0,  0,  1,  2]],\n",
      "       dtype=torch.int16)\n"
     ]
    }
   ],
   "source": [
    "import torch\n",
    "\n",
    "torch.manual_seed(1748)\n",
    "\n",
    "data = torch.tensor(encode(text), dtype=torch.short)\n",
    "\n",
    "batch_size = 4\n",
    "block_size = 34 # two boards\n",
    "\n",
    "# get first game in last 20% of data\n",
    "n = int(0.8*len(text))\n",
    "while(text[n] != ';'):\n",
    "    n += 1\n",
    "n += 2\n",
    "\n",
    "train_data = data[:n]\n",
    "test_data = data[n:]\n",
    "\n",
    "def get_batch(split:bool=0)-> list[torch.Tensor]:\n",
    "    # split == 0: train, 1: test\n",
    "    data = train_data if split == 0 else test_data\n",
    "    ix = torch.randint(len(data) - block_size, (batch_size,))\n",
    "    x = torch.stack([data[i:i+block_size] for i in ix])\n",
    "    y = torch.stack([data[i+1:i+block_size+1] for i in ix])\n",
    "    return x, y\n",
    "\n",
    "x, y = get_batch()\n",
    "\n",
    "print(x)\n",
    "\n",
    "print(y)\n",
    "\n"
   ]
  },
  {
   "cell_type": "code",
   "execution_count": null,
   "id": "54e74866",
   "metadata": {},
   "outputs": [],
   "source": []
  }
 ],
 "metadata": {
  "kernelspec": {
   "display_name": "ggpa-env",
   "language": "python",
   "name": "python3"
  },
  "language_info": {
   "codemirror_mode": {
    "name": "ipython",
    "version": 3
   },
   "file_extension": ".py",
   "mimetype": "text/x-python",
   "name": "python",
   "nbconvert_exporter": "python",
   "pygments_lexer": "ipython3",
   "version": "3.13.5"
  }
 },
 "nbformat": 4,
 "nbformat_minor": 5
}
