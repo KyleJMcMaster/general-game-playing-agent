{
 "cells": [
  {
   "cell_type": "markdown",
   "id": "5819fc30",
   "metadata": {},
   "source": [
    "### GPT for Learning how to play 2048\n",
    "\n",
    "Inspired by [GPT from scratch](https://www.youtube.com/watch?v=kCc8FmEb1nY)"
   ]
  },
  {
   "cell_type": "markdown",
   "id": "cc1c2d08",
   "metadata": {},
   "source": [
    "#### Explore the data"
   ]
  },
  {
   "cell_type": "code",
   "execution_count": 1,
   "id": "ee4548fc",
   "metadata": {},
   "outputs": [
    {
     "name": "stdout",
     "output_type": "stream",
     "text": [
      "00000201000000000000000000000000,00000000000000000000000000010201,00010201000000000000000000000001,00010202010000000000000000000000,01030000010000010000000000000000,02030001000000000000000000010000,02030001000100000000000001000000,02030001010100000000000000010000,02030001010200000000000000020000,02030001010300000000000001000000,02040001020000000000010000000000,03040101000000000000000000000100,03040201000000000000000000010000,03040201010100000000000000000000,03040201020000000002000000000000,03040201020200010000000000000000,03040202020200010000000000000000,03040300030100000001000000000000,04040300000200000000000000020000,00000000000000000004010004030300,00000000000000000000040101000404,00000000000000010000040100000105,00000000000000000001040200000105,00000000000000000001040200010105,00000000010000000001040200000205,00000100000000000000040201010205,00010001000000000000040200020205,00000002010000000000040200000305,00000100000000000000040301000305,00000000000001000100040301000305,0000010000\n",
      "4315376\n"
     ]
    }
   ],
   "source": [
    "with open('games.txt', 'r') as f:\n",
    "    text = f.read()\n",
    "\n",
    "print(text[:1000])\n",
    "print(len(text))"
   ]
  },
  {
   "cell_type": "markdown",
   "id": "9f035a56",
   "metadata": {},
   "source": [
    "#### Tokenize\n",
    "\n",
    "Each tile is represented by 2 digit, 0-led int. Will convert tile into regular int. \n",
    "\n",
    "Each state is separated by comma, each game by ';\\n'. Will convert these into int as well"
   ]
  },
  {
   "cell_type": "code",
   "execution_count": 2,
   "id": "c614918a",
   "metadata": {},
   "outputs": [
    {
     "name": "stdout",
     "output_type": "stream",
     "text": [
      "[2, 0, 0, 0, 2, 3, 3, 1, 6, 7, 6, 5, 7, 8, 10, 11, 17, 1, 0, 0, 0, 3, 3, 3, 1, 6, 7, 6, 5, 7, 8, 10, 11, 17, 18, 1, 0, 0, 0, 3, 3, 3, 1, 6, 7, 6, 5, 7, 8, 10, 11, 17]\n",
      "02000000020303010607060507081011,01000000030303010607060507081011,;\n",
      "01000000030303010607060507081011,\n"
     ]
    }
   ],
   "source": [
    "mapping = {',':17, ';\\n':18}\n",
    "inv_mapping = {v: k for k, v in mapping.items()}\n",
    "\n",
    "def encode(s:str)-> list[str]:\n",
    "    out = []\n",
    "    num_splits = len(s.split(f';\\n'))\n",
    "    for i, game in enumerate(s.split(f';\\n')): \n",
    "        for state in game.split(',')[:-1]:\n",
    "            enc_state = [int(''.join(state[i:i+2])) for i in range(0, len(state), 2)]\n",
    "            enc_state.append(mapping[','])\n",
    "            out += enc_state\n",
    "        out.append(mapping[';\\n']) if i < num_splits-1 else None\n",
    "    \n",
    "    return out\n",
    "\n",
    "def decode(l:list[int]) -> str:\n",
    "    s = ''\n",
    "    for char in l:\n",
    "        if char < 10:\n",
    "            s += '0'+ str(char)\n",
    "        elif char < min(mapping.values()): # hard coded, should fix\n",
    "            s += str(char)\n",
    "        else:\n",
    "            s += inv_mapping[char]\n",
    "\n",
    "    return s        \n",
    "\n",
    "\n",
    "print(encode('02000000020303010607060507081011,01000000030303010607060507081011,;\\n01000000030303010607060507081011,'))\n",
    "print(decode(encode('02000000020303010607060507081011,01000000030303010607060507081011,;\\n01000000030303010607060507081011,')))\n"
   ]
  },
  {
   "cell_type": "markdown",
   "id": "41638313",
   "metadata": {},
   "source": [
    "#### Load data\n",
    "\n",
    "Get train test split\n",
    "\n",
    "Set up batches"
   ]
  },
  {
   "cell_type": "code",
   "execution_count": 3,
   "id": "f67652d6",
   "metadata": {},
   "outputs": [
    {
     "name": "stdout",
     "output_type": "stream",
     "text": [
      "cuda\n",
      "1816089 2223064 1816089 406975\n",
      "tensor([[ 2,  0,  1,  0,  0,  3,  1,  0,  1,  2,  6,  2,  3,  5,  3, 17,  2,  1,\n",
      "          0,  1,  3,  1,  0,  0,  1,  2,  6,  0,  2,  3,  5,  3, 17,  0],\n",
      "        [ 0,  0,  0,  1,  0,  0,  4,  2,  1,  0,  2,  2, 17,  0,  0,  1,  0,  0,\n",
      "          0,  0,  0,  2,  0,  4,  1,  1,  0,  2,  3, 17,  0,  0,  0,  1],\n",
      "        [ 2,  4,  7,  8, 12, 17,  2,  2,  0,  0,  1,  2,  0,  0,  1,  5,  4,  2,\n",
      "          4,  7,  8, 12, 17,  0,  1,  0,  3,  0,  0,  1,  2,  1,  5,  4],\n",
      "        [ 6,  2,  4, 10, 11, 17,  1,  1,  4,  2,  3,  4,  5,  4,  7,  8,  7,  6,\n",
      "          2,  4, 10, 11, 17,  2,  4,  2,  1,  3,  4,  5,  4,  7,  8,  7]],\n",
      "       device='cuda:0')\n",
      "tensor([[ 0,  1,  0,  0,  3,  1,  0,  1,  2,  6,  2,  3,  5,  3, 17,  2,  1,  0,\n",
      "          1,  3,  1,  0,  0,  1,  2,  6,  0,  2,  3,  5,  3, 17,  0,  0],\n",
      "        [ 0,  0,  1,  0,  0,  4,  2,  1,  0,  2,  2, 17,  0,  0,  1,  0,  0,  0,\n",
      "          0,  0,  2,  0,  4,  1,  1,  0,  2,  3, 17,  0,  0,  0,  1,  1],\n",
      "        [ 4,  7,  8, 12, 17,  2,  2,  0,  0,  1,  2,  0,  0,  1,  5,  4,  2,  4,\n",
      "          7,  8, 12, 17,  0,  1,  0,  3,  0,  0,  1,  2,  1,  5,  4,  2],\n",
      "        [ 2,  4, 10, 11, 17,  1,  1,  4,  2,  3,  4,  5,  4,  7,  8,  7,  6,  2,\n",
      "          4, 10, 11, 17,  2,  4,  2,  1,  3,  4,  5,  4,  7,  8,  7,  6]],\n",
      "       device='cuda:0')\n"
     ]
    }
   ],
   "source": [
    "import torch\n",
    "\n",
    "torch.manual_seed(1748)\n",
    "\n",
    "data = torch.tensor(encode(text), dtype=torch.long)\n",
    "\n",
    "batch_size = 4\n",
    "block_size = 34 # two boards\n",
    "device = 'cuda' if torch.cuda.is_available() else 'cpu'\n",
    "eval_iters = 100\n",
    "num_iters = 1000\n",
    "eval_interval = 100\n",
    "n_embed = 32\n",
    "print(device)\n",
    "\n",
    "# get first game in last 20% of data\n",
    "n = int(0.8*len(data))\n",
    "while(data[n] != mapping[';\\n']):\n",
    "    n += 1\n",
    "n += 2\n",
    "\n",
    "train_data = data[:n]\n",
    "test_data = data[n:]\n",
    "print(n, len(data), len(train_data), len(test_data))\n",
    "\n",
    "def get_batch(split:bool=0)-> list[torch.Tensor]:\n",
    "    # split == 0: train, 1: test\n",
    "    data = train_data if split == 0 else test_data\n",
    "    ix = torch.randint(len(data) - block_size, (batch_size,))\n",
    "    x = torch.stack([data[i:i+block_size] for i in ix])\n",
    "    y = torch.stack([data[i+1:i+block_size+1] for i in ix])\n",
    "    x = x.to(device)\n",
    "    y = y.to(device)\n",
    "    return x, y\n",
    "\n",
    "x, y = get_batch()\n",
    "\n",
    "print(x)\n",
    "\n",
    "print(y)\n",
    "\n"
   ]
  },
  {
   "cell_type": "markdown",
   "id": "f27d6662",
   "metadata": {},
   "source": [
    "#### Bigram Model\n",
    "\n",
    "Loss "
   ]
  },
  {
   "cell_type": "code",
   "execution_count": null,
   "id": "54e74866",
   "metadata": {},
   "outputs": [
    {
     "name": "stdout",
     "output_type": "stream",
     "text": [
      "torch.Size([136, 19])\n",
      "tensor(3.2514, device='cuda:0', grad_fn=<NllLossBackward0>)\n"
     ]
    }
   ],
   "source": [
    "import torch\n",
    "import torch.nn as nn\n",
    "from torch.nn import functional as F\n",
    "torch.manual_seed(1748)\n",
    "\n",
    "class Head(nn.module):\n",
    "\n",
    "    def __init__(self, head_size):\n",
    "        super().__init__()\n",
    "        self.key = nn.Linear(n_embed, head_size, bias=False)\n",
    "        self.query = nn.Linear(n_embed, head_size, bias=False)\n",
    "        self.value = nn.Linear(n_embed, head_size, bias=False)\n",
    "        self.register_buffer('tril', torch.tril(torch.ones(block_size, block_size)))\n",
    "\n",
    "    def forward(self, x):\n",
    "        B, T, C = x.shape\n",
    "        k = self.key(x)\n",
    "        q = self.query(x)\n",
    "\n",
    "        wei = q @ k.transpose(-2,-1) * C**-0.5\n",
    "        wei = wei.masked_fill(self.tril[:T, :T] == 0, float('-inf'))\n",
    "        wei = F.softmax(wei, dim=-1)\n",
    "\n",
    "        v = self.value(x)\n",
    "        out = wei @ v\n",
    "        return out\n",
    "\n",
    "class BigramModel(nn.Module):\n",
    "\n",
    "    def __init__(self, vocab_size=19):\n",
    "        super().__init__()\n",
    "        self.token_embedding_table = nn.Embedding(vocab_size, n_embed)\n",
    "        self.position_embedding_table = nn.Embedding(block_size, n_embed)\n",
    "        self.lm_head = nn.Linear(n_embed, vocab_size)\n",
    "\n",
    "    def forward(self, idx, targets=None):\n",
    "        B, T = idx.shape\n",
    "\n",
    "        tok_emb = self.token_embedding_table(idx) # (B, T, C)\n",
    "        pos_emb = self.position_embedding_table(torch.arange(T, device=device)) # (T, C)\n",
    "        x = tok_emb + pos_emb\n",
    "        logits = self.lm_head(x) # (B,T,vocab_size)\n",
    "\n",
    "        if targets is None:\n",
    "            loss = None\n",
    "        else:\n",
    "            B, T, C = logits.shape\n",
    "            logits = logits.view(B*T, C)\n",
    "            targets = targets.view(B*T)\n",
    "            loss = F.cross_entropy(logits, targets)\n",
    "\n",
    "        return logits, loss\n",
    "    \n",
    "    def generate(self, idx, max_new_tokens):\n",
    "        # idx is (B,T)\n",
    "        for  _ in range(max_new_tokens):\n",
    "            logits, loss = self(idx)\n",
    "            logits = logits[:,-1,:] # last time step, (B,C)\n",
    "            probs = F.softmax(logits, dim=-1)\n",
    "            idx_next = torch.multinomial(probs, num_samples=1) # (B,1)\n",
    "            idx = torch.cat((idx, idx_next), dim=1) #(B, T+1)\n",
    "        return idx\n",
    "\n",
    "    \n",
    "model = BigramModel()\n",
    "m = model.to(device)\n",
    "logits, loss = m(x,y)\n",
    "print(logits.shape)\n",
    "print(loss)\n",
    "\n",
    "# print(decode(m.generate(torch.zeros((1,1), dtype=torch.long, device=device), max_new_tokens=100)[0].tolist()))"
   ]
  },
  {
   "cell_type": "code",
   "execution_count": 5,
   "id": "dd87befe",
   "metadata": {},
   "outputs": [
    {
     "name": "stdout",
     "output_type": "stream",
     "text": [
      "0: Train loss: 3.2024, Val loss: 3.1715\n",
      "100: Train loss: 2.2965, Val loss: 2.2842\n",
      "200: Train loss: 2.0542, Val loss: 2.0276\n",
      "300: Train loss: 1.9668, Val loss: 1.9174\n",
      "400: Train loss: 1.9273, Val loss: 1.8390\n",
      "500: Train loss: 1.8722, Val loss: 1.8168\n",
      "600: Train loss: 1.8810, Val loss: 1.8089\n",
      "700: Train loss: 1.8484, Val loss: 1.7669\n",
      "800: Train loss: 1.8215, Val loss: 1.7519\n",
      "900: Train loss: 1.8461, Val loss: 1.7428\n"
     ]
    }
   ],
   "source": [
    "@torch.no_grad()\n",
    "def estimate_loss():\n",
    "    out = {}\n",
    "    model.eval()\n",
    "    for split in [0, 1]:\n",
    "        losses = torch.zeros(eval_iters)\n",
    "        for k in range(eval_iters):\n",
    "            X,Y = get_batch(split)\n",
    "            logits, loss = model(X,Y)\n",
    "            losses[k] = loss.item()\n",
    "        out[split] = losses.mean()\n",
    "    model.train()\n",
    "    return out\n",
    "\n",
    "\n",
    "optimizer = torch.optim.Adam(m.parameters(), lr=1e-3)\n",
    "\n",
    "\n",
    "\n",
    "for iter in range(num_iters):\n",
    "\n",
    "    if iter % eval_interval == 0:\n",
    "        losses = estimate_loss()\n",
    "        print(f'{iter}: Train loss: {losses[0]:.4f}, Val loss: {losses[1]:.4f}')\n",
    "    xb, yb = get_batch(0)\n",
    "\n",
    "    logits, loss = m(xb, yb)\n",
    "    optimizer.zero_grad(set_to_none=True)\n",
    "    loss.backward()\n",
    "    optimizer.step()\n",
    "\n",
    "# print(decode(m.generate(torch.zeros((1,1), dtype=torch.long, device=device), max_new_tokens=100)[0].tolist()))\n",
    "\n"
   ]
  },
  {
   "cell_type": "code",
   "execution_count": null,
   "id": "16434495",
   "metadata": {},
   "outputs": [],
   "source": []
  }
 ],
 "metadata": {
  "kernelspec": {
   "display_name": "ggpa-env",
   "language": "python",
   "name": "python3"
  },
  "language_info": {
   "codemirror_mode": {
    "name": "ipython",
    "version": 3
   },
   "file_extension": ".py",
   "mimetype": "text/x-python",
   "name": "python",
   "nbconvert_exporter": "python",
   "pygments_lexer": "ipython3",
   "version": "3.13.5"
  }
 },
 "nbformat": 4,
 "nbformat_minor": 5
}
